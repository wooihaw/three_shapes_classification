{
  "nbformat": 4,
  "nbformat_minor": 0,
  "metadata": {
    "colab": {
      "name": "three_shapes.ipynb",
      "provenance": [],
      "authorship_tag": "ABX9TyOX54HdxdrApJFjrO+fJX+V",
      "include_colab_link": true
    },
    "kernelspec": {
      "name": "python3",
      "display_name": "Python 3"
    }
  },
  "cells": [
    {
      "cell_type": "markdown",
      "metadata": {
        "id": "view-in-github",
        "colab_type": "text"
      },
      "source": [
        "<a href=\"https://colab.research.google.com/github/wooihaw/three_shapes_classification/blob/main/three_shapes.ipynb\" target=\"_parent\"><img src=\"https://colab.research.google.com/assets/colab-badge.svg\" alt=\"Open In Colab\"/></a>"
      ]
    },
    {
      "cell_type": "code",
      "metadata": {
        "id": "5LdynANZ2ljn"
      },
      "source": [
        "%matplotlib inline"
      ],
      "execution_count": null,
      "outputs": []
    },
    {
      "cell_type": "code",
      "metadata": {
        "id": "42Zj4IAI2rqD"
      },
      "source": [
        "!wget https://raw.githubusercontent.com/wooihaw/datasets/main/three_shapes.zip"
      ],
      "execution_count": null,
      "outputs": []
    },
    {
      "cell_type": "code",
      "metadata": {
        "id": "PKdr4vHk21Ef"
      },
      "source": [
        "!unzip three_shapes.zip"
      ],
      "execution_count": null,
      "outputs": []
    },
    {
      "cell_type": "code",
      "metadata": {
        "id": "Oyr6qJFj256a"
      },
      "source": [
        "import os\n",
        "import matplotlib.pyplot as plt\n",
        "import numpy as np\n",
        "from skimage.io import imread\n",
        "from random import randrange\n",
        "\n",
        "filelist = []\n",
        "labels = []\n",
        "for root, dirs, files in os.walk('three_shapes/'):\n",
        "    print(f'Folder: {root}; Sub-folders: {dirs}; Number of files: {len(files)}')\n",
        "    if len(files) == 0:\n",
        "        continue\n",
        "    filelist.extend([os.path.join(root, f) for f in files])\n",
        "    dir = root.split('/')[-1]\n",
        "    labels.extend([dir] * len(files))"
      ],
      "execution_count": null,
      "outputs": []
    },
    {
      "cell_type": "code",
      "metadata": {
        "id": "rMWS8yGv3BY5"
      },
      "source": [
        "inim0 = imread(filelist[0], as_gray=True)\n",
        "plt.imshow(inim0, cmap='gray')\n",
        "plt.show()"
      ],
      "execution_count": null,
      "outputs": []
    },
    {
      "cell_type": "code",
      "metadata": {
        "id": "m0zXdBgN3QhA"
      },
      "source": [
        "images = imread(filelist[0], as_gray=True).reshape(1, -1)\n",
        "for i in range(1, len(filelist)):\n",
        "    images = np.append(images, imread(filelist[i], as_gray=True).reshape(1, -1), axis=0)\n",
        "  \n",
        "X = images\n",
        "y = np.array(labels)\n",
        "print(X.shape, y.shape)"
      ],
      "execution_count": null,
      "outputs": []
    },
    {
      "cell_type": "code",
      "metadata": {
        "id": "csk1qxSTD4JG"
      },
      "source": [
        "indices = [randrange(len(X)) for i in range(10)]\n",
        "_, axes = plt.subplots(2, 5)\n",
        "for ax, image, label in zip(axes.ravel(), X[indices], y[indices]):\n",
        "    ax.set_axis_off()\n",
        "    ax.set_title(label)\n",
        "    ax.imshow(image.reshape(32, 32), cmap='gray', interpolation='nearest')"
      ],
      "execution_count": null,
      "outputs": []
    }
  ]
}