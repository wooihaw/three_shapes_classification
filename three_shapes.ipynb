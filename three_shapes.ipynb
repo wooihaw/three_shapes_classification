{
  "nbformat": 4,
  "nbformat_minor": 0,
  "metadata": {
    "colab": {
      "name": "three_shapes.ipynb",
      "provenance": [],
      "authorship_tag": "ABX9TyNxwBnVi4LpNmAdY1prNXNk",
      "include_colab_link": true
    },
    "kernelspec": {
      "name": "python3",
      "display_name": "Python 3"
    }
  },
  "cells": [
    {
      "cell_type": "markdown",
      "metadata": {
        "id": "view-in-github",
        "colab_type": "text"
      },
      "source": [
        "<a href=\"https://colab.research.google.com/github/wooihaw/three_shapes_classification/blob/main/three_shapes.ipynb\" target=\"_parent\"><img src=\"https://colab.research.google.com/assets/colab-badge.svg\" alt=\"Open In Colab\"/></a>"
      ]
    },
    {
      "cell_type": "code",
      "metadata": {
        "id": "5LdynANZ2ljn"
      },
      "source": [
        "%matplotlib inline"
      ],
      "execution_count": null,
      "outputs": []
    },
    {
      "cell_type": "code",
      "metadata": {
        "id": "42Zj4IAI2rqD"
      },
      "source": [
        "!wget https://raw.githubusercontent.com/wooihaw/datasets/main/three_shapes.zip"
      ],
      "execution_count": null,
      "outputs": []
    },
    {
      "cell_type": "code",
      "metadata": {
        "id": "PKdr4vHk21Ef"
      },
      "source": [
        "!unzip three_shapes.zip"
      ],
      "execution_count": null,
      "outputs": []
    },
    {
      "cell_type": "code",
      "metadata": {
        "id": "Oyr6qJFj256a"
      },
      "source": [
        "import os\n",
        "import matplotlib.pyplot as plt\n",
        "import numpy as np\n",
        "from skimage.io import imread\n",
        "\n",
        "filelist = []\n",
        "labels = []\n",
        "for root, dirs, files in os.walk('three_shapes/'):\n",
        "    print(f'Folder: {root}, sub-folders: {dirs}, number of files: {len(files)}')\n",
        "    if len(files) == 0:\n",
        "        continue\n",
        "    filelist.extend([os.path.join(root, f) for f in files])\n",
        "    dir = root.split('/')[-1]\n",
        "    labels.extend([dir] * len(files))"
      ],
      "execution_count": null,
      "outputs": []
    },
    {
      "cell_type": "code",
      "metadata": {
        "id": "rMWS8yGv3BY5"
      },
      "source": [
        "inim0 = imread(filelist[0], as_gray=True)\n",
        "plt.imshow(inim0, cmap='gray')\n",
        "plt.show()"
      ],
      "execution_count": null,
      "outputs": []
    },
    {
      "cell_type": "code",
      "metadata": {
        "id": "m0zXdBgN3QhA"
      },
      "source": [
        "images = [imread(filelist[0], as_gray=True).reshape(1, -1)]\n",
        "for i in range(1, len(filelist)):\n",
        "    images = np.append(images, [imread(filelist[i], as_gray=True).reshape(1, -1)], axis=0)\n",
        "  \n",
        "X = images.squeeze()\n",
        "y = np.array(labels)\n",
        "print(X.shape, y.shape)"
      ],
      "execution_count": null,
      "outputs": []
    },
    {
      "cell_type": "code",
      "metadata": {
        "id": "36Hi11FR3ZoB"
      },
      "source": [
        "from sklearn.model_selection import train_test_split as split, GridSearchCV, StratifiedKFold\n",
        "from sklearn.preprocessing import StandardScaler, MinMaxScaler, RobustScaler\n",
        "from sklearn.decomposition import PCA\n",
        "from sklearn.pipeline import Pipeline\n",
        "from sklearn.ensemble import RandomForestClassifier\n",
        "from sklearn.neighbors import KNeighborsClassifier\n",
        "from sklearn.linear_model import LogisticRegression\n",
        "from sklearn.neural_network import MLPClassifier\n",
        "from xgboost import XGBClassifier\n",
        "\n",
        "X_train, X_test, y_train, y_test = split(X, y, stratify=y, random_state=42)\n",
        "\n",
        "rfc = RandomForestClassifier(random_state=42).fit(X_train, y_train)\n",
        "print(f'rfc score: {rfc.score(X_test, y_test)}')"
      ],
      "execution_count": null,
      "outputs": []
    },
    {
      "cell_type": "code",
      "metadata": {
        "id": "0DHaF29E3djf"
      },
      "source": [
        "pipe1 = Pipeline([('scl', None), ('dr', PCA(random_state=42)), ('clf', KNeighborsClassifier())])\n",
        "folds = StratifiedKFold(n_splits=5, shuffle=True, random_state=42)\n",
        "params = {}\n",
        "params['scl'] = [None, StandardScaler(), MinMaxScaler(), RobustScaler()]\n",
        "params['dr__n_components'] = range(50, 151, 10)\n",
        "params['clf'] = [KNeighborsClassifier(), LogisticRegression(random_state=42), RandomForestClassifier(random_state=42), \n",
        "                XGBClassifier(random_state=42), MLPClassifier(random_state=42)]\n",
        "gs = GridSearchCV(pipe1, params, cv=folds, n_jobs=-1, verbose=2)\n",
        "gs.fit(X_train, y_train)\n",
        "print(gs.best_params_)\n",
        "\n",
        "pipe1.set_params(**gs.best_params_).fit(X_train, y_train)\n",
        "print(f'pipe1 score: {pipe1.score(X_test, y_test)}')"
      ],
      "execution_count": null,
      "outputs": []
    },
    {
      "cell_type": "code",
      "metadata": {
        "id": "8ZetpYrQ8FSA"
      },
      "source": [
        "print(gs.best_score_)"
      ],
      "execution_count": null,
      "outputs": []
    }
  ]
}